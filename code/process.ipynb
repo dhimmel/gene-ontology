{
 "cells": [
  {
   "cell_type": "code",
   "execution_count": 1,
   "metadata": {
    "collapsed": false
   },
   "outputs": [],
   "source": [
    "import collections\n",
    "import os\n",
    "\n",
    "import pandas\n",
    "import networkx\n",
    "\n",
    "import utilities"
   ]
  },
  {
   "cell_type": "code",
   "execution_count": 2,
   "metadata": {
    "collapsed": true
   },
   "outputs": [],
   "source": [
    "download_dir = os.path.join('..', 'download')\n",
    "annotation_dir = os.path.join('..', 'annotations')"
   ]
  },
  {
   "cell_type": "code",
   "execution_count": 3,
   "metadata": {
    "collapsed": true
   },
   "outputs": [],
   "source": [
    "remove_subsets = {\n",
    "    'goantislim_grouping', # Grouping classes that can be excluded\n",
    "    'gocheck_do_not_annotate' # Term not to be used for direct annotation\n",
    "    'gocheck_do_not_manually_annotate', # Term not to be used for direct manual annotation\n",
    "}\n",
    "\n",
    "propagate_along = {'is_a', 'part_of'}\n",
    "\n",
    "experimental_codes = {\n",
    "    'EXP', # Inferred from Experiment\n",
    "    'IDA', # Inferred from Direct Assay\n",
    "    'IPI', # Inferred from Physical Interaction\n",
    "    'IMP', # Inferred from Mutant Phenotype\n",
    "    'IGI', # Inferred from Genetic Interaction\n",
    "    'IEP', # Inferred from Expression Pattern\n",
    "}"
   ]
  },
  {
   "cell_type": "markdown",
   "metadata": {},
   "source": [
    "## Read Gene Ontology graph"
   ]
  },
  {
   "cell_type": "code",
   "execution_count": 4,
   "metadata": {
    "collapsed": false
   },
   "outputs": [
    {
     "name": "stdout",
     "output_type": "stream",
     "text": [
      "Name: go\n",
      "Type: MultiDiGraph\n",
      "Number of nodes: 42716\n",
      "Number of edges: 89596\n",
      "Average in degree:   2.0975\n",
      "Average out degree:   2.0975\n"
     ]
    }
   ],
   "source": [
    "graph = utilities.read_go(download_dir)\n",
    "print(networkx.info(graph))"
   ]
  },
  {
   "cell_type": "code",
   "execution_count": 5,
   "metadata": {
    "collapsed": false
   },
   "outputs": [
    {
     "name": "stderr",
     "output_type": "stream",
     "text": [
      "/home/dhimmels/Documents/serg/rephetio/construct/gene-ontology/code/utilities.py:81: FutureWarning: sort(columns=....) is deprecated, use sort_values(by=.....)\n",
      "  go_df = go_df.sort('go_id')\n"
     ]
    },
    {
     "data": {
      "text/html": [
       "<div>\n",
       "<table border=\"1\" class=\"dataframe\">\n",
       "  <thead>\n",
       "    <tr style=\"text-align: right;\">\n",
       "      <th></th>\n",
       "      <th>go_id</th>\n",
       "      <th>go_name</th>\n",
       "      <th>go_domain</th>\n",
       "    </tr>\n",
       "  </thead>\n",
       "  <tbody>\n",
       "    <tr>\n",
       "      <th>30585</th>\n",
       "      <td>GO:0000001</td>\n",
       "      <td>mitochondrion inheritance</td>\n",
       "      <td>biological_process</td>\n",
       "    </tr>\n",
       "    <tr>\n",
       "      <th>42542</th>\n",
       "      <td>GO:0000002</td>\n",
       "      <td>mitochondrial genome maintenance</td>\n",
       "      <td>biological_process</td>\n",
       "    </tr>\n",
       "  </tbody>\n",
       "</table>\n",
       "</div>"
      ],
      "text/plain": [
       "            go_id                           go_name           go_domain\n",
       "30585  GO:0000001         mitochondrion inheritance  biological_process\n",
       "42542  GO:0000002  mitochondrial genome maintenance  biological_process"
      ]
     },
     "execution_count": 5,
     "metadata": {},
     "output_type": "execute_result"
    }
   ],
   "source": [
    "# dataframe of GO terms\n",
    "go_df = utilities.graph_to_dataframe(graph)\n",
    "go_df.head(2)"
   ]
  },
  {
   "cell_type": "code",
   "execution_count": 6,
   "metadata": {
    "collapsed": false
   },
   "outputs": [
    {
     "name": "stdout",
     "output_type": "stream",
     "text": [
      "Name: go\n",
      "Type: MultiDiGraph\n",
      "Number of nodes: 42716\n",
      "Number of edges: 81079\n",
      "Average in degree:   1.8981\n",
      "Average out degree:   1.8981\n"
     ]
    }
   ],
   "source": [
    "# Remove nodes that should not be annotated\n",
    "remove_nodes = set()\n",
    "for node, data in graph.nodes(data=True):\n",
    "    if remove_subsets & set(data.get('subset', [])):\n",
    "        remove_nodes.add(node)\n",
    "        #graph.remove_node(node)\n",
    "\n",
    "# Remove edges that should not be propagated along\n",
    "remove_edges = []\n",
    "for u, v, key in graph.edges(data=False, keys=True):\n",
    "    if key not in propagate_along:\n",
    "        remove_edges.append((u, v, key))\n",
    "\n",
    "for u, v, key in remove_edges:\n",
    "    graph.remove_edge(u, v, key)\n",
    "\n",
    "assert networkx.is_directed_acyclic_graph(graph)\n",
    "print(networkx.info(graph))"
   ]
  },
  {
   "cell_type": "markdown",
   "metadata": {},
   "source": [
    "## Read Entrez Gene and annotations"
   ]
  },
  {
   "cell_type": "code",
   "execution_count": 7,
   "metadata": {
    "collapsed": false
   },
   "outputs": [
    {
     "data": {
      "text/html": [
       "<div>\n",
       "<table border=\"1\" class=\"dataframe\">\n",
       "  <thead>\n",
       "    <tr style=\"text-align: right;\">\n",
       "      <th></th>\n",
       "      <th>GeneID</th>\n",
       "      <th>Symbol</th>\n",
       "      <th>type_of_gene</th>\n",
       "      <th>tax_id</th>\n",
       "    </tr>\n",
       "  </thead>\n",
       "  <tbody>\n",
       "    <tr>\n",
       "      <th>0</th>\n",
       "      <td>5692769</td>\n",
       "      <td>NEWENTRY</td>\n",
       "      <td>other</td>\n",
       "      <td>7</td>\n",
       "    </tr>\n",
       "    <tr>\n",
       "      <th>1</th>\n",
       "      <td>1246500</td>\n",
       "      <td>repA1</td>\n",
       "      <td>protein-coding</td>\n",
       "      <td>9</td>\n",
       "    </tr>\n",
       "  </tbody>\n",
       "</table>\n",
       "</div>"
      ],
      "text/plain": [
       "    GeneID    Symbol    type_of_gene  tax_id\n",
       "0  5692769  NEWENTRY           other       7\n",
       "1  1246500     repA1  protein-coding       9"
      ]
     },
     "execution_count": 7,
     "metadata": {},
     "output_type": "execute_result"
    }
   ],
   "source": [
    "# Read Entrez Gene info\n",
    "gene_df = utilities.read_gene_info(download_dir)\n",
    "gene_df = gene_df[['GeneID', 'Symbol', 'type_of_gene', 'tax_id']]\n",
    "gene_df.head(2)"
   ]
  },
  {
   "cell_type": "code",
   "execution_count": 8,
   "metadata": {
    "collapsed": false
   },
   "outputs": [
    {
     "data": {
      "text/html": [
       "<div>\n",
       "<table border=\"1\" class=\"dataframe\">\n",
       "  <thead>\n",
       "    <tr style=\"text-align: right;\">\n",
       "      <th></th>\n",
       "      <th>tax_id</th>\n",
       "      <th>GeneID</th>\n",
       "      <th>GO_ID</th>\n",
       "      <th>Evidence</th>\n",
       "      <th>Qualifier</th>\n",
       "      <th>GO_term</th>\n",
       "      <th>PubMed</th>\n",
       "      <th>Category</th>\n",
       "    </tr>\n",
       "  </thead>\n",
       "  <tbody>\n",
       "    <tr>\n",
       "      <th>0</th>\n",
       "      <td>3702</td>\n",
       "      <td>814629</td>\n",
       "      <td>GO:0003676</td>\n",
       "      <td>IEA</td>\n",
       "      <td>NaN</td>\n",
       "      <td>nucleic acid binding</td>\n",
       "      <td>NaN</td>\n",
       "      <td>Function</td>\n",
       "    </tr>\n",
       "    <tr>\n",
       "      <th>1</th>\n",
       "      <td>3702</td>\n",
       "      <td>814629</td>\n",
       "      <td>GO:0005634</td>\n",
       "      <td>ISM</td>\n",
       "      <td>NaN</td>\n",
       "      <td>nucleus</td>\n",
       "      <td>NaN</td>\n",
       "      <td>Component</td>\n",
       "    </tr>\n",
       "  </tbody>\n",
       "</table>\n",
       "</div>"
      ],
      "text/plain": [
       "   tax_id  GeneID       GO_ID Evidence Qualifier               GO_term PubMed  \\\n",
       "0    3702  814629  GO:0003676      IEA       NaN  nucleic acid binding    NaN   \n",
       "1    3702  814629  GO:0005634      ISM       NaN               nucleus    NaN   \n",
       "\n",
       "    Category  \n",
       "0   Function  \n",
       "1  Component  "
      ]
     },
     "execution_count": 8,
     "metadata": {},
     "output_type": "execute_result"
    }
   ],
   "source": [
    "# Read annotations\n",
    "goa_df = utilities.read_gene2go(download_dir)\n",
    "goa_df.head(2)"
   ]
  },
  {
   "cell_type": "markdown",
   "metadata": {},
   "source": [
    "## Add and propagate annotations"
   ]
  },
  {
   "cell_type": "code",
   "execution_count": 9,
   "metadata": {
    "collapsed": false
   },
   "outputs": [],
   "source": [
    "def annotate_graph(graph, goa_df):\n",
    "    \"\"\"Add direct annotations to graph\"\"\"\n",
    "    graph = graph.copy()\n",
    "    \n",
    "    # Add dictionary items for storing annotations\n",
    "    for node, data in graph.nodes.items():\n",
    "        for key in 'direct_annotations', 'direct_not_annotations', 'inferred_annotations':\n",
    "            data[key] = set()\n",
    "\n",
    "    # Populate direct annotations\n",
    "    for i, row in goa_df.iterrows():\n",
    "\n",
    "        go_id = row['GO_ID']\n",
    "        if go_id not in graph:\n",
    "            continue\n",
    "\n",
    "        key = 'direct_not_annotations' if utilities.is_NOT_qaulifier(row.Qualifier) else 'direct_annotations'\n",
    "\n",
    "        gene = row['GeneID']\n",
    "        graph.node[go_id][key].add(gene)\n",
    "    \n",
    "    return graph"
   ]
  },
  {
   "cell_type": "code",
   "execution_count": 10,
   "metadata": {
    "collapsed": false
   },
   "outputs": [],
   "source": [
    "def propagate_annotations(graph):\n",
    "    \"\"\"Infer annotations through propagations\"\"\"\n",
    "    for node in networkx.topological_sort(graph):\n",
    "        data = graph.node[node]\n",
    "        inferred = data['inferred_annotations']\n",
    "        inferred -= data['direct_not_annotations']\n",
    "        inferred |= data['direct_annotations']\n",
    "        for subsuming_node in graph.successors(node):\n",
    "            subsuming_data = graph.node[subsuming_node]\n",
    "            subsuming_data['inferred_annotations'] |= inferred"
   ]
  },
  {
   "cell_type": "code",
   "execution_count": 11,
   "metadata": {
    "collapsed": true
   },
   "outputs": [],
   "source": [
    "joiner = lambda x: '|'.join(map(str, x))\n",
    "\n",
    "def extract_annotation_df(graph):\n",
    "    \"\"\"Create an annotation dataframe\"\"\"\n",
    "    rows = list()\n",
    "    for node, data in graph.nodes.items():\n",
    "        if node in remove_nodes:\n",
    "            continue\n",
    "        for kind in 'direct', 'inferred':\n",
    "            for gene in data['{}_annotations'.format(kind)]:\n",
    "                rows.append((node, kind, gene))\n",
    "    \n",
    "    annotation_df = pandas.DataFrame(rows, columns=['go_id', 'kind', 'GeneID'])\n",
    "    annotation_df = annotation_df.merge(gene_df)\n",
    "\n",
    "    rows = list()\n",
    "    for (tax_id, kind), taxon_df in annotation_df.groupby(['tax_id', 'kind']):\n",
    "        for go_id, term_df in taxon_df.groupby('go_id'):\n",
    "            term_df = term_df.sort_values('GeneID')\n",
    "            row = tax_id, go_id, kind, len(term_df), joiner(term_df['GeneID']), joiner(term_df['Symbol'])\n",
    "            rows.append(row)\n",
    "    wide_df = pandas.DataFrame(rows, columns = ['tax_id', 'go_id', 'annotation_type', 'size', 'gene_ids', 'gene_symbols'])\n",
    "    wide_df = go_df.merge(wide_df)\n",
    "    return wide_df"
   ]
  },
  {
   "cell_type": "markdown",
   "metadata": {},
   "source": [
    "## Extract and save annotations"
   ]
  },
  {
   "cell_type": "code",
   "execution_count": 12,
   "metadata": {
    "collapsed": false
   },
   "outputs": [
    {
     "name": "stdout",
     "output_type": "stream",
     "text": [
      "../annotations/taxid_3702/GO_annotations-3702-direct-allev.tsv\n",
      "../annotations/taxid_3702/GO_annotations-3702-inferred-allev.tsv\n",
      "../annotations/taxid_4528/GO_annotations-4528-direct-allev.tsv\n",
      "../annotations/taxid_4528/GO_annotations-4528-inferred-allev.tsv\n",
      "../annotations/taxid_4529/GO_annotations-4529-direct-allev.tsv\n",
      "../annotations/taxid_4529/GO_annotations-4529-inferred-allev.tsv\n",
      "../annotations/taxid_4532/GO_annotations-4532-direct-allev.tsv\n",
      "../annotations/taxid_4532/GO_annotations-4532-inferred-allev.tsv\n",
      "../annotations/taxid_4535/GO_annotations-4535-direct-allev.tsv\n",
      "../annotations/taxid_4535/GO_annotations-4535-inferred-allev.tsv\n",
      "../annotations/taxid_4536/GO_annotations-4536-direct-allev.tsv\n",
      "../annotations/taxid_4536/GO_annotations-4536-inferred-allev.tsv\n",
      "../annotations/taxid_4537/GO_annotations-4537-direct-allev.tsv\n",
      "../annotations/taxid_4537/GO_annotations-4537-inferred-allev.tsv\n",
      "../annotations/taxid_4538/GO_annotations-4538-direct-allev.tsv\n",
      "../annotations/taxid_4538/GO_annotations-4538-inferred-allev.tsv\n",
      "../annotations/taxid_6239/GO_annotations-6239-direct-allev.tsv\n",
      "../annotations/taxid_6239/GO_annotations-6239-inferred-allev.tsv\n",
      "../annotations/taxid_7227/GO_annotations-7227-direct-allev.tsv\n",
      "../annotations/taxid_7227/GO_annotations-7227-inferred-allev.tsv\n",
      "../annotations/taxid_7955/GO_annotations-7955-direct-allev.tsv\n",
      "../annotations/taxid_7955/GO_annotations-7955-inferred-allev.tsv\n",
      "../annotations/taxid_9031/GO_annotations-9031-direct-allev.tsv\n",
      "../annotations/taxid_9031/GO_annotations-9031-inferred-allev.tsv\n",
      "../annotations/taxid_9606/GO_annotations-9606-direct-allev.tsv\n",
      "../annotations/taxid_9606/GO_annotations-9606-inferred-allev.tsv\n",
      "../annotations/taxid_9615/GO_annotations-9615-direct-allev.tsv\n",
      "../annotations/taxid_9615/GO_annotations-9615-inferred-allev.tsv\n",
      "../annotations/taxid_9823/GO_annotations-9823-direct-allev.tsv\n",
      "../annotations/taxid_9823/GO_annotations-9823-inferred-allev.tsv\n",
      "../annotations/taxid_9913/GO_annotations-9913-direct-allev.tsv\n",
      "../annotations/taxid_9913/GO_annotations-9913-inferred-allev.tsv\n",
      "../annotations/taxid_10090/GO_annotations-10090-direct-allev.tsv\n",
      "../annotations/taxid_10090/GO_annotations-10090-inferred-allev.tsv\n",
      "../annotations/taxid_10116/GO_annotations-10116-direct-allev.tsv\n",
      "../annotations/taxid_10116/GO_annotations-10116-inferred-allev.tsv\n",
      "../annotations/taxid_36329/GO_annotations-36329-direct-allev.tsv\n",
      "../annotations/taxid_36329/GO_annotations-36329-inferred-allev.tsv\n",
      "../annotations/taxid_39946/GO_annotations-39946-direct-allev.tsv\n",
      "../annotations/taxid_39946/GO_annotations-39946-inferred-allev.tsv\n",
      "../annotations/taxid_39947/GO_annotations-39947-direct-allev.tsv\n",
      "../annotations/taxid_39947/GO_annotations-39947-inferred-allev.tsv\n",
      "../annotations/taxid_40148/GO_annotations-40148-direct-allev.tsv\n",
      "../annotations/taxid_40148/GO_annotations-40148-inferred-allev.tsv\n",
      "../annotations/taxid_40149/GO_annotations-40149-direct-allev.tsv\n",
      "../annotations/taxid_40149/GO_annotations-40149-inferred-allev.tsv\n",
      "../annotations/taxid_65489/GO_annotations-65489-direct-allev.tsv\n",
      "../annotations/taxid_65489/GO_annotations-65489-inferred-allev.tsv\n",
      "../annotations/taxid_198094/GO_annotations-198094-direct-allev.tsv\n",
      "../annotations/taxid_198094/GO_annotations-198094-inferred-allev.tsv\n",
      "../annotations/taxid_211586/GO_annotations-211586-direct-allev.tsv\n",
      "../annotations/taxid_211586/GO_annotations-211586-inferred-allev.tsv\n",
      "../annotations/taxid_214684/GO_annotations-214684-direct-allev.tsv\n",
      "../annotations/taxid_214684/GO_annotations-214684-inferred-allev.tsv\n",
      "../annotations/taxid_220664/GO_annotations-220664-direct-allev.tsv\n",
      "../annotations/taxid_220664/GO_annotations-220664-inferred-allev.tsv\n",
      "../annotations/taxid_223283/GO_annotations-223283-direct-allev.tsv\n",
      "../annotations/taxid_223283/GO_annotations-223283-inferred-allev.tsv\n",
      "../annotations/taxid_227321/GO_annotations-227321-direct-allev.tsv\n",
      "../annotations/taxid_227321/GO_annotations-227321-inferred-allev.tsv\n",
      "../annotations/taxid_227377/GO_annotations-227377-direct-allev.tsv\n",
      "../annotations/taxid_227377/GO_annotations-227377-inferred-allev.tsv\n",
      "../annotations/taxid_243231/GO_annotations-243231-direct-allev.tsv\n",
      "../annotations/taxid_243231/GO_annotations-243231-inferred-allev.tsv\n",
      "../annotations/taxid_284812/GO_annotations-284812-direct-allev.tsv\n",
      "../annotations/taxid_284812/GO_annotations-284812-inferred-allev.tsv\n",
      "../annotations/taxid_352472/GO_annotations-352472-direct-allev.tsv\n",
      "../annotations/taxid_352472/GO_annotations-352472-inferred-allev.tsv\n",
      "../annotations/taxid_511145/GO_annotations-511145-direct-allev.tsv\n",
      "../annotations/taxid_511145/GO_annotations-511145-inferred-allev.tsv\n",
      "../annotations/taxid_559292/GO_annotations-559292-direct-allev.tsv\n",
      "../annotations/taxid_559292/GO_annotations-559292-inferred-allev.tsv\n",
      "../annotations/taxid_3702/GO_annotations-3702-direct-expev.tsv\n",
      "../annotations/taxid_3702/GO_annotations-3702-inferred-expev.tsv\n",
      "../annotations/taxid_6239/GO_annotations-6239-direct-expev.tsv\n",
      "../annotations/taxid_6239/GO_annotations-6239-inferred-expev.tsv\n",
      "../annotations/taxid_7227/GO_annotations-7227-direct-expev.tsv\n",
      "../annotations/taxid_7227/GO_annotations-7227-inferred-expev.tsv\n",
      "../annotations/taxid_7955/GO_annotations-7955-direct-expev.tsv\n",
      "../annotations/taxid_7955/GO_annotations-7955-inferred-expev.tsv\n",
      "../annotations/taxid_9031/GO_annotations-9031-direct-expev.tsv\n",
      "../annotations/taxid_9031/GO_annotations-9031-inferred-expev.tsv\n",
      "../annotations/taxid_9606/GO_annotations-9606-direct-expev.tsv\n",
      "../annotations/taxid_9606/GO_annotations-9606-inferred-expev.tsv\n",
      "../annotations/taxid_9615/GO_annotations-9615-direct-expev.tsv\n",
      "../annotations/taxid_9615/GO_annotations-9615-inferred-expev.tsv\n",
      "../annotations/taxid_9823/GO_annotations-9823-direct-expev.tsv\n",
      "../annotations/taxid_9823/GO_annotations-9823-inferred-expev.tsv\n",
      "../annotations/taxid_9913/GO_annotations-9913-direct-expev.tsv\n",
      "../annotations/taxid_9913/GO_annotations-9913-inferred-expev.tsv\n",
      "../annotations/taxid_10090/GO_annotations-10090-direct-expev.tsv\n",
      "../annotations/taxid_10090/GO_annotations-10090-inferred-expev.tsv\n",
      "../annotations/taxid_10116/GO_annotations-10116-direct-expev.tsv\n",
      "../annotations/taxid_10116/GO_annotations-10116-inferred-expev.tsv\n",
      "../annotations/taxid_36329/GO_annotations-36329-direct-expev.tsv\n",
      "../annotations/taxid_36329/GO_annotations-36329-inferred-expev.tsv\n",
      "../annotations/taxid_39947/GO_annotations-39947-direct-expev.tsv\n",
      "../annotations/taxid_39947/GO_annotations-39947-inferred-expev.tsv\n",
      "../annotations/taxid_198094/GO_annotations-198094-direct-expev.tsv\n",
      "../annotations/taxid_198094/GO_annotations-198094-inferred-expev.tsv\n",
      "../annotations/taxid_211586/GO_annotations-211586-direct-expev.tsv\n",
      "../annotations/taxid_211586/GO_annotations-211586-inferred-expev.tsv\n",
      "../annotations/taxid_220664/GO_annotations-220664-direct-expev.tsv\n",
      "../annotations/taxid_220664/GO_annotations-220664-inferred-expev.tsv\n",
      "../annotations/taxid_223283/GO_annotations-223283-direct-expev.tsv\n",
      "../annotations/taxid_223283/GO_annotations-223283-inferred-expev.tsv\n",
      "../annotations/taxid_227321/GO_annotations-227321-direct-expev.tsv\n",
      "../annotations/taxid_227321/GO_annotations-227321-inferred-expev.tsv\n",
      "../annotations/taxid_243231/GO_annotations-243231-direct-expev.tsv\n",
      "../annotations/taxid_243231/GO_annotations-243231-inferred-expev.tsv\n",
      "../annotations/taxid_284812/GO_annotations-284812-direct-expev.tsv\n",
      "../annotations/taxid_284812/GO_annotations-284812-inferred-expev.tsv\n",
      "../annotations/taxid_352472/GO_annotations-352472-direct-expev.tsv\n",
      "../annotations/taxid_352472/GO_annotations-352472-inferred-expev.tsv\n",
      "../annotations/taxid_559292/GO_annotations-559292-direct-expev.tsv\n",
      "../annotations/taxid_559292/GO_annotations-559292-inferred-expev.tsv\n"
     ]
    }
   ],
   "source": [
    "for ev_type in 'allev', 'expev':\n",
    "    goa_subset_df = goa_df\n",
    "    if ev_type == 'expev':\n",
    "        goa_subset_df = goa_subset_df[goa_subset_df.Evidence.isin(experimental_codes)]\n",
    "    graph_annot = annotate_graph(graph, goa_subset_df)\n",
    "    propagate_annotations(graph_annot)\n",
    "    annotation_df = extract_annotation_df(graph_annot)\n",
    "\n",
    "    for (tax_id, annotation_type), df in annotation_df.groupby(['tax_id', 'annotation_type']):\n",
    "        path = utilities.get_annotation_path(annotation_dir, tax_id, annotation_type, ev_type, mkdir=True)\n",
    "        print(path)\n",
    "        df.to_csv(path, sep='\\t', index=False)"
   ]
  },
  {
   "cell_type": "code",
   "execution_count": 13,
   "metadata": {
    "collapsed": true
   },
   "outputs": [],
   "source": []
  }
 ],
 "metadata": {
  "kernelspec": {
   "display_name": "Python 3",
   "language": "python",
   "name": "python3"
  },
  "language_info": {
   "codemirror_mode": {
    "name": "ipython",
    "version": 3
   },
   "file_extension": ".py",
   "mimetype": "text/x-python",
   "name": "python",
   "nbconvert_exporter": "python",
   "pygments_lexer": "ipython3",
   "version": "3.5.1"
  }
 },
 "nbformat": 4,
 "nbformat_minor": 0
}
